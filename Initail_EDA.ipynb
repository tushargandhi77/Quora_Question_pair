{
 "cells": [
  {
   "cell_type": "code",
   "id": "initial_id",
   "metadata": {
    "collapsed": true,
    "ExecuteTime": {
     "end_time": "2024-04-14T09:13:49.121745Z",
     "start_time": "2024-04-14T09:13:49.109774Z"
    }
   },
   "source": [
    "import numpy as np\n",
    "import pandas as pd\n",
    "import seaborn as sns\n",
    "import matplotlib.pyplot as plt"
   ],
   "outputs": [],
   "execution_count": 1
  },
  {
   "metadata": {
    "ExecuteTime": {
     "end_time": "2024-04-14T09:13:51.152313Z",
     "start_time": "2024-04-14T09:13:49.125732Z"
    }
   },
   "cell_type": "code",
   "source": [
    "df = pd.read_csv('train.csv')\n",
    "df.shape"
   ],
   "id": "c3c347f7fe51cc0b",
   "outputs": [
    {
     "data": {
      "text/plain": [
       "(404290, 6)"
      ]
     },
     "execution_count": 2,
     "metadata": {},
     "output_type": "execute_result"
    }
   ],
   "execution_count": 2
  },
  {
   "metadata": {
    "ExecuteTime": {
     "end_time": "2024-04-14T09:13:51.307897Z",
     "start_time": "2024-04-14T09:13:51.154308Z"
    }
   },
   "cell_type": "code",
   "source": "df.sample(10)",
   "id": "86f6bfdf9125baff",
   "outputs": [
    {
     "data": {
      "text/plain": [
       "            id    qid1    qid2  \\\n",
       "58216    58216  102174  102175   \n",
       "393016  393016  525760  525761   \n",
       "118507  118507  192592  192593   \n",
       "149292  149292  235199  235200   \n",
       "314860  314860   32317    8154   \n",
       "214335  214335  319885  319886   \n",
       "244977  244977   50876   32659   \n",
       "246828  246828  139950  359944   \n",
       "326239  326239  452522  452523   \n",
       "17438    17438   33134   33135   \n",
       "\n",
       "                                                question1  \\\n",
       "58216           Which Sims 4 expansion pack should I get?   \n",
       "393016  How does one get into McKinsey, Bain or BCG fr...   \n",
       "118507  Of all the Myers-Briggs personality types, whi...   \n",
       "149292  How can I delete my Instagram account when I f...   \n",
       "314860                     How do I make money from home?   \n",
       "214335  I'm a mechatronic engineering student. I'm loo...   \n",
       "244977         What is the best comic ever written/drawn?   \n",
       "246828  Which is the best book to learn data structure...   \n",
       "326239  How do you get rid of goggle eyes after swimming?   \n",
       "17438                    What does \"el chupa nibre\" mean?   \n",
       "\n",
       "                                                question2  is_duplicate  \n",
       "58216               What Sims 4 expansion packs are best?             1  \n",
       "393016  How do I get into McKinsey, BCG, Bain, if I am...             0  \n",
       "118507  What is the history of maternity death rates i...             0  \n",
       "149292  If I forgot both my username and password of m...             0  \n",
       "314860             What is an easy way make money online?             1  \n",
       "214335  I'm a final-year mechanical engineering studen...             0  \n",
       "244977                  What are some of the best comics?             1  \n",
       "246828  Which is the Best book to learn data structure...             1  \n",
       "326239  Can I swim with my eyes open if I get Lasik su...             0  \n",
       "17438                What does \"El Paso\" mean in Spanish?             0  "
      ],
      "text/html": [
       "<div>\n",
       "<style scoped>\n",
       "    .dataframe tbody tr th:only-of-type {\n",
       "        vertical-align: middle;\n",
       "    }\n",
       "\n",
       "    .dataframe tbody tr th {\n",
       "        vertical-align: top;\n",
       "    }\n",
       "\n",
       "    .dataframe thead th {\n",
       "        text-align: right;\n",
       "    }\n",
       "</style>\n",
       "<table border=\"1\" class=\"dataframe\">\n",
       "  <thead>\n",
       "    <tr style=\"text-align: right;\">\n",
       "      <th></th>\n",
       "      <th>id</th>\n",
       "      <th>qid1</th>\n",
       "      <th>qid2</th>\n",
       "      <th>question1</th>\n",
       "      <th>question2</th>\n",
       "      <th>is_duplicate</th>\n",
       "    </tr>\n",
       "  </thead>\n",
       "  <tbody>\n",
       "    <tr>\n",
       "      <th>58216</th>\n",
       "      <td>58216</td>\n",
       "      <td>102174</td>\n",
       "      <td>102175</td>\n",
       "      <td>Which Sims 4 expansion pack should I get?</td>\n",
       "      <td>What Sims 4 expansion packs are best?</td>\n",
       "      <td>1</td>\n",
       "    </tr>\n",
       "    <tr>\n",
       "      <th>393016</th>\n",
       "      <td>393016</td>\n",
       "      <td>525760</td>\n",
       "      <td>525761</td>\n",
       "      <td>How does one get into McKinsey, Bain or BCG fr...</td>\n",
       "      <td>How do I get into McKinsey, BCG, Bain, if I am...</td>\n",
       "      <td>0</td>\n",
       "    </tr>\n",
       "    <tr>\n",
       "      <th>118507</th>\n",
       "      <td>118507</td>\n",
       "      <td>192592</td>\n",
       "      <td>192593</td>\n",
       "      <td>Of all the Myers-Briggs personality types, whi...</td>\n",
       "      <td>What is the history of maternity death rates i...</td>\n",
       "      <td>0</td>\n",
       "    </tr>\n",
       "    <tr>\n",
       "      <th>149292</th>\n",
       "      <td>149292</td>\n",
       "      <td>235199</td>\n",
       "      <td>235200</td>\n",
       "      <td>How can I delete my Instagram account when I f...</td>\n",
       "      <td>If I forgot both my username and password of m...</td>\n",
       "      <td>0</td>\n",
       "    </tr>\n",
       "    <tr>\n",
       "      <th>314860</th>\n",
       "      <td>314860</td>\n",
       "      <td>32317</td>\n",
       "      <td>8154</td>\n",
       "      <td>How do I make money from home?</td>\n",
       "      <td>What is an easy way make money online?</td>\n",
       "      <td>1</td>\n",
       "    </tr>\n",
       "    <tr>\n",
       "      <th>214335</th>\n",
       "      <td>214335</td>\n",
       "      <td>319885</td>\n",
       "      <td>319886</td>\n",
       "      <td>I'm a mechatronic engineering student. I'm loo...</td>\n",
       "      <td>I'm a final-year mechanical engineering studen...</td>\n",
       "      <td>0</td>\n",
       "    </tr>\n",
       "    <tr>\n",
       "      <th>244977</th>\n",
       "      <td>244977</td>\n",
       "      <td>50876</td>\n",
       "      <td>32659</td>\n",
       "      <td>What is the best comic ever written/drawn?</td>\n",
       "      <td>What are some of the best comics?</td>\n",
       "      <td>1</td>\n",
       "    </tr>\n",
       "    <tr>\n",
       "      <th>246828</th>\n",
       "      <td>246828</td>\n",
       "      <td>139950</td>\n",
       "      <td>359944</td>\n",
       "      <td>Which is the best book to learn data structure...</td>\n",
       "      <td>Which is the Best book to learn data structure...</td>\n",
       "      <td>1</td>\n",
       "    </tr>\n",
       "    <tr>\n",
       "      <th>326239</th>\n",
       "      <td>326239</td>\n",
       "      <td>452522</td>\n",
       "      <td>452523</td>\n",
       "      <td>How do you get rid of goggle eyes after swimming?</td>\n",
       "      <td>Can I swim with my eyes open if I get Lasik su...</td>\n",
       "      <td>0</td>\n",
       "    </tr>\n",
       "    <tr>\n",
       "      <th>17438</th>\n",
       "      <td>17438</td>\n",
       "      <td>33134</td>\n",
       "      <td>33135</td>\n",
       "      <td>What does \"el chupa nibre\" mean?</td>\n",
       "      <td>What does \"El Paso\" mean in Spanish?</td>\n",
       "      <td>0</td>\n",
       "    </tr>\n",
       "  </tbody>\n",
       "</table>\n",
       "</div>"
      ]
     },
     "execution_count": 3,
     "metadata": {},
     "output_type": "execute_result"
    }
   ],
   "execution_count": 3
  },
  {
   "metadata": {
    "ExecuteTime": {
     "end_time": "2024-04-14T09:13:51.434563Z",
     "start_time": "2024-04-14T09:13:51.309892Z"
    }
   },
   "cell_type": "code",
   "source": "df.info()",
   "id": "e09a5f74edd170b3",
   "outputs": [
    {
     "name": "stdout",
     "output_type": "stream",
     "text": [
      "<class 'pandas.core.frame.DataFrame'>\n",
      "RangeIndex: 404290 entries, 0 to 404289\n",
      "Data columns (total 6 columns):\n",
      " #   Column        Non-Null Count   Dtype \n",
      "---  ------        --------------   ----- \n",
      " 0   id            404290 non-null  int64 \n",
      " 1   qid1          404290 non-null  int64 \n",
      " 2   qid2          404290 non-null  int64 \n",
      " 3   question1     404289 non-null  object\n",
      " 4   question2     404288 non-null  object\n",
      " 5   is_duplicate  404290 non-null  int64 \n",
      "dtypes: int64(4), object(2)\n",
      "memory usage: 18.5+ MB\n"
     ]
    }
   ],
   "execution_count": 4
  },
  {
   "metadata": {
    "ExecuteTime": {
     "end_time": "2024-04-14T09:13:51.527311Z",
     "start_time": "2024-04-14T09:13:51.437551Z"
    }
   },
   "cell_type": "code",
   "source": "df.isnull().sum()",
   "id": "228ecd6fa5408201",
   "outputs": [
    {
     "data": {
      "text/plain": [
       "id              0\n",
       "qid1            0\n",
       "qid2            0\n",
       "question1       1\n",
       "question2       2\n",
       "is_duplicate    0\n",
       "dtype: int64"
      ]
     },
     "execution_count": 5,
     "metadata": {},
     "output_type": "execute_result"
    }
   ],
   "execution_count": 5
  },
  {
   "metadata": {
    "ExecuteTime": {
     "end_time": "2024-04-14T09:13:52.074847Z",
     "start_time": "2024-04-14T09:13:51.529306Z"
    }
   },
   "cell_type": "code",
   "source": "df.duplicated().sum()",
   "id": "7e96d5b234e911b",
   "outputs": [
    {
     "data": {
      "text/plain": [
       "0"
      ]
     },
     "execution_count": 6,
     "metadata": {},
     "output_type": "execute_result"
    }
   ],
   "execution_count": 6
  },
  {
   "metadata": {
    "ExecuteTime": {
     "end_time": "2024-04-14T09:13:52.434884Z",
     "start_time": "2024-04-14T09:13:52.078836Z"
    }
   },
   "cell_type": "code",
   "source": "df['is_duplicate'].value_counts().plot(kind='bar')",
   "id": "8f03db3c054fdbd",
   "outputs": [
    {
     "data": {
      "text/plain": [
       "<Axes: xlabel='is_duplicate'>"
      ]
     },
     "execution_count": 7,
     "metadata": {},
     "output_type": "execute_result"
    },
    {
     "data": {
      "text/plain": [
       "<Figure size 640x480 with 1 Axes>"
      ],
      "image/png": "[encoded data removed]"
     },
     "metadata": {},
     "output_type": "display_data"
    }
   ],
   "execution_count": 7
  },
  {
   "metadata": {
    "ExecuteTime": {
     "end_time": "2024-04-14T09:13:52.934548Z",
     "start_time": "2024-04-14T09:13:52.438873Z"
    }
   },
   "cell_type": "code",
   "source": [
    "qid = pd.Series(df['qid1'].tolist()+df['qid2'].tolist())\n",
    "print('Number of Unique Questions:',np.unique(qid).shape[0])\n",
    "x = qid.value_counts() > 1\n",
    "print(\"Number of question Getting repeated\",x[x].shape[0])"
   ],
   "id": "7c2bbb55e71f6ff6",
   "outputs": [
    {
     "name": "stdout",
     "output_type": "stream",
     "text": [
      "Number of Unique Questions: 537933\n",
      "Number of question Getting repeated 111780\n"
     ]
    }
   ],
   "execution_count": 8
  },
  {
   "metadata": {
    "ExecuteTime": {
     "end_time": "2024-04-14T09:13:54.464457Z",
     "start_time": "2024-04-14T09:13:52.936544Z"
    }
   },
   "cell_type": "code",
   "source": [
    "plt.hist(qid.value_counts().values,bins=160)\n",
    "plt.yscale('log')\n",
    "plt.show()"
   ],
   "id": "4223502b553191c8",
   "outputs": [
    {
     "data": {
      "text/plain": [
       "<Figure size 640x480 with 1 Axes>"
      ],
      "image/png": "[encoded data removed]"
     },
     "metadata": {},
     "output_type": "display_data"
    }
   ],
   "execution_count": 9
  },
  {
   "metadata": {
    "ExecuteTime": {
     "end_time": "2024-04-14T09:13:54.499363Z",
     "start_time": "2024-04-14T09:13:54.467449Z"
    }
   },
   "cell_type": "code",
   "source": "",
   "id": "38f7332834eec420",
   "outputs": [],
   "execution_count": 9
  }
 ],
 "metadata": {
  "kernelspec": {
   "display_name": "Python 3",
   "language": "python",
   "name": "python3"
  },
  "language_info": {
   "codemirror_mode": {
    "name": "ipython",
    "version": 2
   },
   "file_extension": ".py",
   "mimetype": "text/x-python",
   "name": "python",
   "nbconvert_exporter": "python",
   "pygments_lexer": "ipython2",
   "version": "2.7.6"
  }
 },
 "nbformat": 4,
 "nbformat_minor": 5
}
